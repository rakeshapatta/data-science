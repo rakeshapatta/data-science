{
 "cells": [
  {
   "cell_type": "code",
   "execution_count": null,
   "id": "2b87262f-f534-44c2-b84b-40ff7ee5abe3",
   "metadata": {},
   "outputs": [],
   "source": []
  },
  {
   "cell_type": "code",
   "execution_count": 2,
   "id": "7e2d9238-0562-4cf6-b57c-f66fbcf0171a",
   "metadata": {},
   "outputs": [
    {
     "name": "stdout",
     "output_type": "stream",
     "text": [
      "hello data science world.\n"
     ]
    }
   ],
   "source": [
    "print(\"hello data science world.\")"
   ]
  },
  {
   "cell_type": "code",
   "execution_count": 5,
   "id": "d584388d-0fca-4916-838e-044a7a3b87be",
   "metadata": {},
   "outputs": [
    {
     "data": {
      "text/plain": [
       "35"
      ]
     },
     "execution_count": 5,
     "metadata": {},
     "output_type": "execute_result"
    }
   ],
   "source": [
    "10+25"
   ]
  },
  {
   "cell_type": "code",
   "execution_count": null,
   "id": "9b725b04-3d04-4580-aae0-247ba9b16051",
   "metadata": {},
   "outputs": [],
   "source": []
  },
  {
   "cell_type": "markdown",
   "id": "6a27cdd9-675d-4d76-8133-cab78a314ec9",
   "metadata": {},
   "source": [
    "add a cell above the current cell"
   ]
  },
  {
   "cell_type": "markdown",
   "id": "86e56c5b-86da-44b8-80f9-4ba86b7dc716",
   "metadata": {},
   "source": [
    "add a cell below the current cell"
   ]
  },
  {
   "cell_type": "code",
   "execution_count": null,
   "id": "f32b5b65-9cd7-4e25-81a6-f2a13dd64d4a",
   "metadata": {},
   "outputs": [],
   "source": []
  },
  {
   "cell_type": "code",
   "execution_count": 8,
   "id": "bf3e1e44-9469-44ea-9a98-6542ec8b82e4",
   "metadata": {},
   "outputs": [
    {
     "ename": "NameError",
     "evalue": "name 'Shortcuts' is not defined",
     "output_type": "error",
     "traceback": [
      "\u001b[1;31m---------------------------------------------------------------------------\u001b[0m",
      "\u001b[1;31mNameError\u001b[0m                                 Traceback (most recent call last)",
      "Cell \u001b[1;32mIn[8], line 1\u001b[0m\n\u001b[1;32m----> 1\u001b[0m Shortcuts\n",
      "\u001b[1;31mNameError\u001b[0m: name 'Shortcuts' is not defined"
     ]
    }
   ],
   "source": [
    "Shortcuts"
   ]
  },
  {
   "cell_type": "markdown",
   "id": "615aa02c-8df7-495a-8016-f136ae5bd6c2",
   "metadata": {},
   "source": [
    "Data\n",
    "data\n",
    "dAta\n",
    "DAta"
   ]
  },
  {
   "cell_type": "code",
   "execution_count": 3,
   "id": "9ba9d6c0-5362-4432-94e7-9408104d7592",
   "metadata": {},
   "outputs": [
    {
     "name": "stdout",
     "output_type": "stream",
     "text": [
      "machine learning.\n"
     ]
    }
   ],
   "source": [
    "print(\"machine learning.\")"
   ]
  },
  {
   "cell_type": "code",
   "execution_count": 6,
   "id": "e9fd2482-07d1-41d2-ba64-1e5adddb89b4",
   "metadata": {},
   "outputs": [
    {
     "data": {
      "text/plain": [
       "4.0"
      ]
     },
     "execution_count": 6,
     "metadata": {},
     "output_type": "execute_result"
    }
   ],
   "source": [
    "24/6"
   ]
  }
 ],
 "metadata": {
  "kernelspec": {
   "display_name": "Python 3 (ipykernel)",
   "language": "python",
   "name": "python3"
  },
  "language_info": {
   "codemirror_mode": {
    "name": "ipython",
    "version": 3
   },
   "file_extension": ".py",
   "mimetype": "text/x-python",
   "name": "python",
   "nbconvert_exporter": "python",
   "pygments_lexer": "ipython3",
   "version": "3.11.7"
  }
 },
 "nbformat": 4,
 "nbformat_minor": 5
}
